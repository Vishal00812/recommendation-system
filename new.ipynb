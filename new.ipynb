{
 "cells": [
  {
   "cell_type": "code",
   "execution_count": 1,
   "metadata": {},
   "outputs": [
    {
     "name": "stderr",
     "output_type": "stream",
     "text": [
      "c:\\Users\\vktaw\\Desktop\\FashionFinderMyntra\\venv\\lib\\site-packages\\tqdm\\auto.py:21: TqdmWarning: IProgress not found. Please update jupyter and ipywidgets. See https://ipywidgets.readthedocs.io/en/stable/user_install.html\n",
      "  from .autonotebook import tqdm as notebook_tqdm\n"
     ]
    }
   ],
   "source": [
    "import pandas as pd\n",
    "from sentence_transformers import SentenceTransformer\n",
    "import faiss\n",
    "import numpy as np\n",
    "import joblib\n",
    "import os\n",
    "from sklearn.metrics.pairwise import cosine_similarity"
   ]
  },
  {
   "cell_type": "code",
   "execution_count": 2,
   "metadata": {},
   "outputs": [],
   "source": [
    "CSV_PATH = 'Active Product List  Admin 02.04.2025.csv'\n",
    "MODEL_NAME = 'all-MiniLM-L6-v2'\n",
    "EMBEDDINGS_PATH = 'product_embeddings.npy'\n",
    "INDEX_PATH = 'faiss_index.index'\n",
    "DF_PATH = 'product_df.pkl'"
   ]
  },
  {
   "cell_type": "code",
   "execution_count": 3,
   "metadata": {},
   "outputs": [],
   "source": [
    "if os.path.exists(EMBEDDINGS_PATH) and os.path.exists(INDEX_PATH) and os.path.exists(DF_PATH):\n",
    "    df = joblib.load(DF_PATH)\n",
    "    index = faiss.read_index(INDEX_PATH)\n",
    "    embeddings = np.load(EMBEDDINGS_PATH)\n",
    "    model = SentenceTransformer(MODEL_NAME) \n",
    "else:\n",
    "    df = pd.read_csv(CSV_PATH)\n",
    "    df.fillna('', inplace=True)\n",
    "    df['search_text'] = df['Name'] + ' ' + df['Type'] + ' ' + df['Category'] + ' ' + df['SubCategory']\n",
    "    model = SentenceTransformer(MODEL_NAME)\n",
    "    embeddings = model.encode(df['search_text'].tolist(), show_progress_bar=True)\n",
    "    np.save(EMBEDDINGS_PATH, embeddings)\n",
    "    joblib.dump(df, DF_PATH)\n",
    "    index = faiss.IndexFlatL2(embeddings.shape[1])\n",
    "    index.add(np.array(embeddings))\n",
    "    faiss.write_index(index, INDEX_PATH)"
   ]
  },
  {
   "cell_type": "code",
   "execution_count": 23,
   "metadata": {},
   "outputs": [],
   "source": [
    "def recommend_products(query, threshold=0.5):\n",
    "    query_embedding = model.encode([query])\n",
    "    all_embeddings = index.reconstruct_n(0, index.ntotal)\n",
    "    similarities = cosine_similarity(query_embedding, all_embeddings)[0]\n",
    "    indices = np.where(similarities >= threshold)[0]\n",
    "    sorted_indices = indices[np.argsort(similarities[indices])[::-1]]\n",
    "    return df.iloc[sorted_indices][['Product Id', 'Name', 'Category', 'SubCategory', 'Sale Price']]"
   ]
  },
  {
   "cell_type": "code",
   "execution_count": 25,
   "metadata": {},
   "outputs": [
    {
     "name": "stdout",
     "output_type": "stream",
     "text": [
      "\n",
      "📦 Recommended Products:\n",
      "  Product Id                         Name      Category SubCategory  Sale Price\n",
      "       9570 Pratishtha Camphor Agarbatti Pooja Samagri   Agarbatti        25.0\n",
      "       9041   Pratishtha Woods Agarbatti Pooja Samagri   Agarbatti        10.0\n",
      "       9569   Pratishtha Mogra Agarbatti Pooja Samagri   Agarbatti         5.0\n",
      "       9044  Pratishtha Sandal Agarbatti Pooja Samagri   Agarbatti         5.0\n"
     ]
    }
   ],
   "source": [
    "\n",
    "user_input = \"camphor aggarbatti\"\n",
    "results = recommend_products(user_input)\n",
    "print(\"\\n📦 Recommended Products:\\n\", results.to_string(index=False))"
   ]
  }
 ],
 "metadata": {
  "kernelspec": {
   "display_name": "Python 3",
   "language": "python",
   "name": "python3"
  },
  "language_info": {
   "codemirror_mode": {
    "name": "ipython",
    "version": 3
   },
   "file_extension": ".py",
   "mimetype": "text/x-python",
   "name": "python",
   "nbconvert_exporter": "python",
   "pygments_lexer": "ipython3",
   "version": "3.10.0"
  }
 },
 "nbformat": 4,
 "nbformat_minor": 2
}
